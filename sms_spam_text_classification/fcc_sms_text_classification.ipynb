{
  "nbformat": 4,
  "nbformat_minor": 0,
  "metadata": {
    "colab": {
      "name": "fcc_sms_text_classification.ipynb",
      "private_outputs": true,
      "provenance": [],
      "collapsed_sections": []
    },
    "kernelspec": {
      "display_name": "Python 3",
      "name": "python3"
    }
  },
  "cells": [
    {
      "cell_type": "markdown",
      "metadata": {
        "id": "Eg62Pmz3o83v"
      },
      "source": [
        "*Note: You are currently reading this using Google Colaboratory which is a cloud-hosted version of Jupyter Notebook. This is a document containing both text cells for documentation and runnable code cells. If you are unfamiliar with Jupyter Notebook, watch this 3-minute introduction before starting this challenge: https://www.youtube.com/watch?v=inN8seMm7UI*\n",
        "\n",
        "---\n",
        "\n",
        "In this challenge, you need to create a machine learning model that will classify SMS messages as either \"ham\" or \"spam\". A \"ham\" message is a normal message sent by a friend. A \"spam\" message is an advertisement or a message sent by a company.\n",
        "\n",
        "You should create a function called `predict_message` that takes a message string as an argument and returns a list. The first element in the list should be a number between zero and one that indicates the likeliness of \"ham\" (0) or \"spam\" (1). The second element in the list should be the word \"ham\" or \"spam\", depending on which is most likely.\n",
        "\n",
        "For this challenge, you will use the [SMS Spam Collection dataset](http://www.dt.fee.unicamp.br/~tiago/smsspamcollection/). The dataset has already been grouped into train data and test data.\n",
        "\n",
        "The first two cells import the libraries and data. The final cell tests your model and function. Add your code in between these cells.\n"
      ]
    },
    {
      "cell_type": "code",
      "metadata": {
        "id": "8RZOuS9LWQvv"
      },
      "source": [
        "# import libraries\n",
        "try:\n",
        "  # %tensorflow_version only exists in Colab.\n",
        "  !pip install tf-nightly\n",
        "except Exception:\n",
        "  pass\n",
        "import tensorflow as tf\n",
        "import pandas as pd\n",
        "from tensorflow import keras\n",
        "!pip install tensorflow-datasets\n",
        "import tensorflow_datasets as tfds\n",
        "import numpy as np\n",
        "import matplotlib.pyplot as plt\n",
        "\n",
        "print(tf.__version__)"
      ],
      "execution_count": null,
      "outputs": []
    },
    {
      "cell_type": "code",
      "metadata": {
        "id": "lMHwYXHXCar3"
      },
      "source": [
        "# get data files\n",
        "!wget https://cdn.freecodecamp.org/project-data/sms/train-data.tsv\n",
        "!wget https://cdn.freecodecamp.org/project-data/sms/valid-data.tsv\n",
        "\n",
        "train_file_path = \"train-data.tsv\"\n",
        "test_file_path = \"valid-data.tsv\""
      ],
      "execution_count": null,
      "outputs": []
    },
    {
      "cell_type": "code",
      "metadata": {
        "id": "g_h508FEClxO"
      },
      "source": [
        "df1 = pd.read_csv('/content/train-data.tsv', sep='\\t', names=[\"label\", \"message\"])\n",
        "\n",
        "df2 = pd.read_csv('/content/valid-data.tsv', sep='\\t', names=[\"label\", \"message\"])"
      ],
      "execution_count": null,
      "outputs": []
    },
    {
      "cell_type": "code",
      "metadata": {
        "id": "lKUaAW9Z2JFK"
      },
      "source": [
        "from google.colab import drive\n",
        "drive.mount('/content/drive')"
      ],
      "execution_count": null,
      "outputs": []
    },
    {
      "cell_type": "code",
      "metadata": {
        "id": "zOMKywn4zReN"
      },
      "source": [
        "ham_msg = df1[df1.label == \"ham\"]\n",
        "spam_msg = df1[df1.label == \"spam\"]\n",
        "\n",
        "ham_msg_txt = \"\".join(ham_msg.message.to_numpy().tolist())\n",
        "spam_msg_txt = \"\".join(spam_msg.message.to_numpy().tolist())"
      ],
      "execution_count": null,
      "outputs": []
    },
    {
      "cell_type": "code",
      "metadata": {
        "id": "U-oVcFOD4X8i"
      },
      "source": [
        "from wordcloud import WordCloud, STOPWORDS, ImageColorGenerator\n",
        "%matplotlib inline\n",
        "ham_msg_cloud = WordCloud(width =520, height =260, stopwords=STOPWORDS, max_font_size=50, background_color=\"black\", colormap=\"Blues\").generate(ham_msg_txt)\n",
        "plt.figure(figsize=(16,10))\n",
        "plt.imshow(ham_msg_cloud, interpolation='bilinear')\n",
        "plt.axis('off') # turn off axis\n",
        "plt.show()"
      ],
      "execution_count": null,
      "outputs": []
    },
    {
      "cell_type": "code",
      "metadata": {
        "id": "EFBmoflv60Ah"
      },
      "source": [
        "spam_msg_cloud = WordCloud(width =520, height =260, stopwords=STOPWORDS,max_font_size=50, background_color =\"black\", colormap='Blues').generate(spam_msg_txt)\n",
        "plt.figure(figsize=(16,10))\n",
        "plt.imshow(spam_msg_cloud, interpolation='bilinear')\n",
        "plt.axis('off') # turn off axis\n",
        "plt.show()"
      ],
      "execution_count": null,
      "outputs": []
    },
    {
      "cell_type": "code",
      "metadata": {
        "id": "u0dtEzUk66sR"
      },
      "source": [
        "ham_msg"
      ],
      "execution_count": null,
      "outputs": []
    },
    {
      "cell_type": "code",
      "metadata": {
        "id": "JypZTJmN7EYy"
      },
      "source": [
        "\n",
        "ham_msg_df = ham_msg.sample(n = len(spam_msg), random_state = 44)\n",
        "spam_msg_df = spam_msg\n",
        "print(ham_msg_df.shape, spam_msg_df.shape)"
      ],
      "execution_count": null,
      "outputs": []
    },
    {
      "cell_type": "code",
      "metadata": {
        "id": "edM3IZgq7G8J"
      },
      "source": [
        "\n",
        "msg_df = ham_msg_df.append(spam_msg_df).reset_index(drop=True)"
      ],
      "execution_count": null,
      "outputs": []
    },
    {
      "cell_type": "code",
      "metadata": {
        "id": "ySUEfIip7KkB"
      },
      "source": [
        "msg_df['label']= msg_df['label'].map({'ham': 0, 'spam': 1})"
      ],
      "execution_count": null,
      "outputs": []
    },
    {
      "cell_type": "code",
      "metadata": {
        "id": "KxknyoVa7Nhz"
      },
      "source": [
        "msg_df\n"
      ],
      "execution_count": null,
      "outputs": []
    },
    {
      "cell_type": "code",
      "metadata": {
        "id": "vx7QxFW47fI6"
      },
      "source": [
        "df2['label']= df2['label'].map({'ham': 0, 'spam': 1})"
      ],
      "execution_count": null,
      "outputs": []
    },
    {
      "cell_type": "code",
      "metadata": {
        "id": "4riNHjvB7gpL"
      },
      "source": [
        "msg1=msg_df['message'].values\n",
        "msg2=df2['message'].values"
      ],
      "execution_count": null,
      "outputs": []
    },
    {
      "cell_type": "code",
      "metadata": {
        "id": "BEINgoO97jZJ"
      },
      "source": [
        "msg1"
      ],
      "execution_count": null,
      "outputs": []
    },
    {
      "cell_type": "code",
      "metadata": {
        "id": "G4a0s9zO7roi"
      },
      "source": [
        "max_len = 70\n",
        "trunc_type = \"post\" \n",
        "padding_type = \"post\" \n",
        "oov_tok = \"<OOV>\" \n",
        "vocab_size = 500"
      ],
      "execution_count": null,
      "outputs": []
    },
    {
      "cell_type": "code",
      "metadata": {
        "id": "GN2z9Zx27wdk"
      },
      "source": [
        "from tensorflow.keras.preprocessing.text import Tokenizer\n",
        "from tensorflow.keras.preprocessing.sequence import pad_sequences\n",
        "tokenizer = Tokenizer(num_words = vocab_size, char_level=False, oov_token = oov_tok)\n",
        "tokenizer.fit_on_texts(msg_df['message'])"
      ],
      "execution_count": null,
      "outputs": []
    },
    {
      "cell_type": "code",
      "metadata": {
        "id": "YrjzFz_u7xqC"
      },
      "source": [
        "word_index = tokenizer.word_index\n",
        "word_index"
      ],
      "execution_count": null,
      "outputs": []
    },
    {
      "cell_type": "code",
      "metadata": {
        "id": "nG1og4fw73Lr"
      },
      "source": [
        "tot_words = len(word_index)\n",
        "print('There are %s unique tokens in training data. ' % tot_words)"
      ],
      "execution_count": null,
      "outputs": []
    },
    {
      "cell_type": "code",
      "metadata": {
        "id": "R-1UWn5h8A46"
      },
      "source": [
        "training_sequences = tokenizer.texts_to_sequences(msg_df['message'])\n",
        "training_padded = pad_sequences (training_sequences, maxlen = max_len, padding = padding_type, truncating = trunc_type )\n",
        "testing_sequences = tokenizer.texts_to_sequences(df2['message'])\n",
        "testing_padded = pad_sequences(testing_sequences, maxlen = max_len,padding = padding_type, truncating = trunc_type)"
      ],
      "execution_count": null,
      "outputs": []
    },
    {
      "cell_type": "code",
      "metadata": {
        "id": "UhvG_HMR8HKi"
      },
      "source": [
        "\n",
        "print(training_padded[1])"
      ],
      "execution_count": null,
      "outputs": []
    },
    {
      "cell_type": "code",
      "metadata": {
        "id": "Q5N3wxf08KVq"
      },
      "source": [
        "print('Shape of training tensor: ', training_padded.shape)\n",
        "print('Shape of testing tensor: ', testing_padded.shape)"
      ],
      "execution_count": null,
      "outputs": []
    },
    {
      "cell_type": "markdown",
      "metadata": {
        "id": "AeA3yXym8Lua"
      },
      "source": [
        ""
      ]
    },
    {
      "cell_type": "code",
      "metadata": {
        "id": "kUwDbSTQ8MRq"
      },
      "source": [
        "vocab_size = len(tokenizer.word_index) + 1 # As defined earlier\n",
        "embeding_dim = 24\n",
        "drop_value = 0.2 # dropout\n",
        "n_dense = 24"
      ],
      "execution_count": null,
      "outputs": []
    },
    {
      "cell_type": "code",
      "metadata": {
        "id": "vOqhJB5L8SAS"
      },
      "source": [
        "from tensorflow.keras.callbacks import EarlyStopping\n",
        "from tensorflow.keras.models import Sequential\n",
        "from tensorflow.keras.layers import Embedding, GlobalAveragePooling1D, Dense, Dropout, LSTM, Bidirectional\n",
        "model = Sequential()\n",
        "model.add(Embedding(vocab_size, embeding_dim, input_length=max_len))\n",
        "model.add(GlobalAveragePooling1D())\n",
        "model.add(Dense(24, activation='relu'))\n",
        "model.add(Dropout(drop_value))\n",
        "model.add(Dense(1, activation='sigmoid'))\n",
        "model.compile(loss='binary_crossentropy',optimizer='adam' ,metrics=['accuracy'])"
      ],
      "execution_count": null,
      "outputs": []
    },
    {
      "cell_type": "code",
      "metadata": {
        "id": "QpjWzDOH8VFC"
      },
      "source": [
        "\n",
        "model.summary()"
      ],
      "execution_count": null,
      "outputs": []
    },
    {
      "cell_type": "code",
      "metadata": {
        "id": "FV8oEz-z8Z3a"
      },
      "source": [
        "\n",
        "num_epochs = 30\n",
        "early_stop = EarlyStopping(monitor='val_loss', patience=3)\n",
        "history = model.fit(training_padded, msg_df['label'], epochs=num_epochs, validation_data=(testing_padded, df2['label']),callbacks =[early_stop], verbose=2)"
      ],
      "execution_count": null,
      "outputs": []
    },
    {
      "cell_type": "code",
      "metadata": {
        "id": "4EzsOma-8cdK"
      },
      "source": [
        "model.evaluate(testing_padded, df2['label'])"
      ],
      "execution_count": null,
      "outputs": []
    },
    {
      "cell_type": "code",
      "metadata": {
        "id": "kddYN_ne8hcC"
      },
      "source": [
        "n_lstm = 20\n",
        "drop_lstm =0.2\n",
        "model1 = Sequential()\n",
        "model1.add(Embedding(vocab_size, embeding_dim, input_length=max_len))\n",
        "model1.add(LSTM(n_lstm, dropout=drop_lstm, return_sequences=True))\n",
        "model1.add(LSTM(n_lstm, dropout=drop_lstm, return_sequences=True))\n",
        "model1.add(Dense(1, activation='sigmoid'))\n",
        "model1.compile(loss = 'binary_crossentropy', optimizer = 'adam', metrics=['accuracy'])"
      ],
      "execution_count": null,
      "outputs": []
    },
    {
      "cell_type": "code",
      "metadata": {
        "id": "TBwHnp-g8kNy"
      },
      "source": [
        "num_epochs = 30\n",
        "early_stop = EarlyStopping(monitor='val_loss', patience=2)\n",
        "history = model1.fit(training_padded, msg_df['label'], epochs=num_epochs, validation_data=(testing_padded, df2['label']),callbacks =[early_stop], verbose=2)"
      ],
      "execution_count": null,
      "outputs": []
    },
    {
      "cell_type": "code",
      "metadata": {
        "id": "z2QtCdAn8mEU"
      },
      "source": [
        "model1.evaluate(testing_padded, df2['label'])"
      ],
      "execution_count": null,
      "outputs": []
    },
    {
      "cell_type": "code",
      "metadata": {
        "id": "jW_LZIbS8yV6"
      },
      "source": [
        "# function to predict messages based on model\n",
        "# (should return list containing prediction and label, ex. [0.008318834938108921, 'ham'])\n",
        "def predict_message(pred_text):\n",
        "    \n",
        "    \n",
        "    new_seq = tokenizer.texts_to_sequences([pred_text])\n",
        "    pad = pad_sequences (new_seq, maxlen = max_len, padding = padding_type, truncating = trunc_type )\n",
        "  \n",
        "\n",
        "   \n",
        "    answer=model.predict(pad)\n",
        "\n",
        "    #prediction=[]\n",
        "    result=\"\"\n",
        "    if answer[0]*100<5:\n",
        "        result=\"ham\"\n",
        "    else:\n",
        "        result=\"spam\"\n",
        "\n",
        "    #prediction.append(result)\n",
        "   \n",
        "\n",
        "\n",
        "\n",
        "    return (answer,result)\n",
        "\n",
        "pred_text = \"ball is not good\"\n",
        "\n",
        "prediction = predict_message(pred_text)\n",
        "print(prediction)"
      ],
      "execution_count": null,
      "outputs": []
    },
    {
      "cell_type": "code",
      "metadata": {
        "id": "J9tD9yACG6M9"
      },
      "source": [
        "\n",
        "\n",
        "# function to predict messages based on model\n",
        "# (should return list containing prediction and label, ex. [0.008318834938108921, 'ham'])\n",
        "def predict_message(pred_text):\n",
        "    \n",
        "    \n",
        "    new_seq = tokenizer.texts_to_sequences([pred_text])\n",
        "    pad = pad_sequences (new_seq, maxlen = max_len, padding = padding_type, truncating = trunc_type )\n",
        "  \n",
        "\n",
        "   \n",
        "    answer=model.predict(pad)\n",
        "\n",
        "    #prediction=[]\n",
        "    result=\"\"\n",
        "    if answer[0]*100<5:\n",
        "        result=\"ham\"\n",
        "    else:\n",
        "        result=\"spam\"\n",
        "\n",
        "    #prediction.append(result)\n",
        "   \n",
        "\n",
        "\n",
        "\n",
        "    return (answer,result)\n",
        "\n",
        "pred_text = \"ball is not good\"\n",
        "\n",
        "prediction = predict_message(pred_text)\n",
        "print(prediction)"
      ],
      "execution_count": null,
      "outputs": []
    },
    {
      "cell_type": "code",
      "metadata": {
        "id": "Dxotov85SjsC"
      },
      "source": [
        "# Run this cell to test your function and model. Do not modify contents.\n",
        "def test_predictions():\n",
        "  test_messages = [\"how are you doing today\",\n",
        "                   \"sale today! to stop texts call 98912460324\",\n",
        "                   \"i dont want to go. can we try it a different day? available sat\",\n",
        "                   \"our new mobile video service is live. just install on your phone to start watching.\",\n",
        "                   \"you have won £1000 cash! call to claim your prize.\",\n",
        "                   \"i'll bring it tomorrow. don't forget the milk.\",\n",
        "                   \"wow, is your arm alright. that happened to me one time too\"\n",
        "                  ]\n",
        "\n",
        "  test_answers = [\"ham\", \"spam\", \"ham\", \"spam\", \"spam\", \"ham\", \"ham\"]\n",
        "  passed = True\n",
        "\n",
        "  for msg, ans in zip(test_messages, test_answers):\n",
        "    prediction = predict_message(msg)\n",
        "    if prediction[1] != ans:\n",
        "      passed = False\n",
        "\n",
        "  if passed:\n",
        "    print(\"You passed the challenge. Great job!\")\n",
        "  else:\n",
        "    print(\"You haven't passed yet. Keep trying.\")\n",
        "\n",
        "test_predictions()\n"
      ],
      "execution_count": null,
      "outputs": []
    }
  ]
}